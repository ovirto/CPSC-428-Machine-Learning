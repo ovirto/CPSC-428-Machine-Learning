{
 "cells": [
  {
   "cell_type": "markdown",
   "id": "bd55ee41-c189-4fe8-8600-13fcc9d06f9f",
   "metadata": {},
   "source": [
    "# Quick Demo of functions, list comprehensions and basic list ops\n",
    "\n",
    "The first few functions return odd values from the list. The last function returns two lists to demo the ability to return more than one item from a function.\n",
    "\n",
    "Last few examples show list ops, slicing and indexing\n"
   ]
  },
  {
   "cell_type": "code",
   "execution_count": 1,
   "id": "117e3dce-c0a9-4c2e-8390-0a09b058410e",
   "metadata": {},
   "outputs": [],
   "source": [
    "def returnOdd(mylist):\n",
    "    oddlist = []\n",
    "    \n",
    "    for item in mylist:\n",
    "        if item%2:\n",
    "            oddlist.append(item)\n",
    "            \n",
    "    return oddlist"
   ]
  },
  {
   "cell_type": "code",
   "execution_count": null,
   "id": "6b69e514-8675-4405-bc3f-80f92eb0ecc3",
   "metadata": {},
   "outputs": [],
   "source": [
    "def returnOdd2(mylist):\n",
    "    oddlist = [item for item in mylist if item%2]\n",
    "    return oddlist"
   ]
  },
  {
   "cell_type": "code",
   "execution_count": null,
   "id": "35e89072-e861-4a66-8ec8-22f0dbb5c610",
   "metadata": {},
   "outputs": [],
   "source": [
    "def returnOdd3(mylist):\n",
    "    return [item for item in mylist if item%2]\n"
   ]
  },
  {
   "cell_type": "code",
   "execution_count": 2,
   "id": "ce83ad29-87a3-43d9-8016-62e8e0764fb6",
   "metadata": {},
   "outputs": [
    {
     "name": "stdout",
     "output_type": "stream",
     "text": [
      "[0, 1, 2, 3, 4, 5, 6, 7, 8, 9, 10, 11, 12]\n",
      "[1, 3, 5, 7, 9, 11]\n"
     ]
    }
   ],
   "source": [
    "mylist = list(range(13))\n",
    "print(mylist)\n",
    "print(returnOdd(mylist))"
   ]
  },
  {
   "cell_type": "code",
   "execution_count": null,
   "id": "6d5e2bca-d360-4294-bc23-dea6feab7d15",
   "metadata": {},
   "outputs": [],
   "source": [
    "mylist = list(range(13))\n",
    "print(mylist)\n",
    "print(returnOdd2(mylist))"
   ]
  },
  {
   "cell_type": "code",
   "execution_count": null,
   "id": "8046a555-0733-4f1d-aafb-630acd93c736",
   "metadata": {},
   "outputs": [],
   "source": [
    "mylist = list(range(13))\n",
    "print(mylist)\n",
    "print(returnOdd3(mylist))"
   ]
  },
  {
   "cell_type": "code",
   "execution_count": 3,
   "id": "4c1eb24d-4302-4a9b-8326-8f68e3a37c54",
   "metadata": {},
   "outputs": [],
   "source": [
    "# given a list, returns two lists, first odd values, then even ones\n",
    "def odd_evens(mylist):\n",
    "    oddlist = []\n",
    "    evenlist = []\n",
    "    \n",
    "    for item in mylist:\n",
    "        if item%2:\n",
    "            oddlist.append(item)\n",
    "        else:\n",
    "            evenlist.append(item)\n",
    "            \n",
    "    return oddlist, evenlist\n",
    "    "
   ]
  },
  {
   "cell_type": "code",
   "execution_count": 4,
   "id": "8253e9bf-f3ec-4431-9951-541372e49a1b",
   "metadata": {},
   "outputs": [
    {
     "name": "stdout",
     "output_type": "stream",
     "text": [
      "[0, 1, 2, 3, 4, 5, 6, 7, 8, 9, 10, 11, 12]\n",
      "([1, 3, 5, 7, 9, 11], [0, 2, 4, 6, 8, 10, 12])\n"
     ]
    }
   ],
   "source": [
    "mylist = list(range(13))\n",
    "print(mylist)\n",
    "print(odd_evens(mylist))"
   ]
  },
  {
   "cell_type": "code",
   "execution_count": null,
   "id": "782a7f22-7aae-46d7-bdf6-8351738feeb3",
   "metadata": {},
   "outputs": [],
   "source": [
    "mylist = list(range(13))\n",
    "print(mylist)\n",
    "odds, evens = odd_evens(mylist)\n",
    "print(odds)\n",
    "print(evens)"
   ]
  },
  {
   "cell_type": "code",
   "execution_count": null,
   "id": "9fe326c9-71df-4e0d-8d18-aee8c21a3b6e",
   "metadata": {},
   "outputs": [],
   "source": [
    "cities = ['Hamburg', 'NYC', 'Berlin', 'Chicago', 'Cleveland', 'Columbus', 'Tokyo', 'London', 'Istanbul', 'LA']\n",
    "print(cities)"
   ]
  },
  {
   "cell_type": "code",
   "execution_count": null,
   "id": "a2815a9f-208e-4511-8650-d8d85d5f0dff",
   "metadata": {},
   "outputs": [],
   "source": [
    "run = cities[0:6]\n",
    "print(run)"
   ]
  },
  {
   "cell_type": "code",
   "execution_count": null,
   "id": "39a39091-81d7-4292-9a6c-2705a0ecb8bc",
   "metadata": {},
   "outputs": [],
   "source": [
    "want_to = cities[6:]\n",
    "want_to"
   ]
  },
  {
   "cell_type": "code",
   "execution_count": null,
   "id": "f3cd375e-c297-4c59-bc4d-6574095af6fd",
   "metadata": {},
   "outputs": [],
   "source": [
    "cities[-2]"
   ]
  },
  {
   "cell_type": "code",
   "execution_count": null,
   "id": "b42f54e8-5195-4cee-9174-600086ee3f38",
   "metadata": {},
   "outputs": [],
   "source": [
    "cities[0:len(cities):2]"
   ]
  },
  {
   "cell_type": "code",
   "execution_count": null,
   "id": "d9f9829c-497b-41c7-a6b7-4389ef1e5cc4",
   "metadata": {},
   "outputs": [],
   "source": [
    "cities[::-1]"
   ]
  }
 ],
 "metadata": {
  "kernelspec": {
   "display_name": "Python 3 (ipykernel)",
   "language": "python",
   "name": "python3"
  },
  "language_info": {
   "codemirror_mode": {
    "name": "ipython",
    "version": 3
   },
   "file_extension": ".py",
   "mimetype": "text/x-python",
   "name": "python",
   "nbconvert_exporter": "python",
   "pygments_lexer": "ipython3",
   "version": "3.11.0"
  }
 },
 "nbformat": 4,
 "nbformat_minor": 5
}
