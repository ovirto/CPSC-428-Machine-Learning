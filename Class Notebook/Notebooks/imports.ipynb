{
 "cells": [
  {
   "cell_type": "code",
   "execution_count": 1,
   "id": "5f7fceda-5903-4a0a-a536-62a0da9ff6e8",
   "metadata": {},
   "outputs": [
    {
     "name": "stdout",
     "output_type": "stream",
     "text": [
      "Pandas version : 2.2.3\n",
      "Numpy version  : 2.1.3\n",
      "Matplot version: 3.9.2\n",
      "Seaborn version: 0.13.2\n",
      "Sklearn version: 1.5.2\n"
     ]
    }
   ],
   "source": [
    "import pandas as pd\n",
    "import numpy as np\n",
    "import matplotlib\n",
    "import matplotlib.pyplot as plt\n",
    "import seaborn as sns\n",
    "import sklearn as sk\n",
    "\n",
    "print('Pandas version :', pd.__version__)\n",
    "print('Numpy version  :', np.__version__)\n",
    "print('Matplot version:', matplotlib.__version__);\n",
    "print('Seaborn version:', sns.__version__)\n",
    "print('Sklearn version:', sk.__version__)\n",
    "\n",
    "print('--------------')\n",
    "print(pd.Timestamp.now())"
   ]
  },
  {
   "cell_type": "code",
   "execution_count": 2,
   "id": "e1a3dcee-2d3b-4cd4-8c9d-e987a43fdb7e",
   "metadata": {},
   "outputs": [
    {
     "name": "stdout",
     "output_type": "stream",
     "text": [
      "D:\\Users\\i7\\Dropbox\\_DU\\_Classes\\Spring_2025\\CPSC_428_S25\\_Slides\\Lessons_Labs\\Notesbooks\n"
     ]
    }
   ],
   "source": [
    "!pwd"
   ]
  },
  {
   "cell_type": "code",
   "execution_count": null,
   "id": "8d03796a-1a6b-480d-972c-c9b663d0f3fd",
   "metadata": {},
   "outputs": [],
   "source": []
  }
 ],
 "metadata": {
  "kernelspec": {
   "display_name": "Python [conda env:base] *",
   "language": "python",
   "name": "conda-base-py"
  },
  "language_info": {
   "codemirror_mode": {
    "name": "ipython",
    "version": 3
   },
   "file_extension": ".py",
   "mimetype": "text/x-python",
   "name": "python",
   "nbconvert_exporter": "python",
   "pygments_lexer": "ipython3",
   "version": "3.12.7"
  }
 },
 "nbformat": 4,
 "nbformat_minor": 5
}
